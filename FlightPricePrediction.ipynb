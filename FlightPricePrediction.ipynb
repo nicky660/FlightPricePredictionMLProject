{
 "cells": [
  {
   "cell_type": "code",
   "execution_count": 1,
   "id": "9c6b09cc-ffc6-420f-8ec3-8fcc0c20288d",
   "metadata": {},
   "outputs": [],
   "source": [
    "import pandas as pd\n",
    "import numpy as np\n",
    "import matplotlib.pyplot as plt\n",
    "import seaborn as sns\n",
    "from sklearn.preprocessing import LabelEncoder\n",
    "from sklearn.model_selection import train_test_split\n",
    "from sklearn.linear_model import LinearRegression\n",
    "from sklearn.ensemble import RandomForestRegressor\n",
    "from sklearn.tree import DecisionTreeRegressor\n",
    "from sklearn.metrics import mean_squared_error, r2_score, accuracy_score, precision_score, recall_score, f1_score\n",
    "from sklearn.preprocessing import StandardScaler\n",
    "import warnings\n",
    "warnings.filterwarnings('ignore')"
   ]
  },
  {
   "cell_type": "code",
   "execution_count": 2,
   "id": "4749d630-baa0-48c6-b2fd-b5b7f528cb52",
   "metadata": {},
   "outputs": [
    {
     "name": "stdout",
     "output_type": "stream",
     "text": [
      "   Unnamed: 0   airline   flight source_city departure_time stops  \\\n",
      "0           0  SpiceJet  SG-8709       Delhi        Evening  zero   \n",
      "1           1  SpiceJet  SG-8157       Delhi  Early_Morning  zero   \n",
      "2           2   AirAsia   I5-764       Delhi  Early_Morning  zero   \n",
      "3           3   Vistara   UK-995       Delhi        Morning  zero   \n",
      "4           4   Vistara   UK-963       Delhi        Morning  zero   \n",
      "\n",
      "    arrival_time destination_city    class  duration  days_left  price  \n",
      "0          Night           Mumbai  Economy      2.17          1   5953  \n",
      "1        Morning           Mumbai  Economy      2.33          1   5953  \n",
      "2  Early_Morning           Mumbai  Economy      2.17          1   5956  \n",
      "3      Afternoon           Mumbai  Economy      2.25          1   5955  \n",
      "4        Morning           Mumbai  Economy      2.33          1   5955  \n"
     ]
    }
   ],
   "source": [
    "flight_data = pd.read_csv('Clean_Dataset.csv')\n",
    "print(flight_data.head())"
   ]
  },
  {
   "cell_type": "code",
   "execution_count": 3,
   "id": "e352aff6-57b2-41ed-b266-05d95b863809",
   "metadata": {},
   "outputs": [
    {
     "data": {
      "text/plain": [
       "(300153, 12)"
      ]
     },
     "execution_count": 3,
     "metadata": {},
     "output_type": "execute_result"
    }
   ],
   "source": [
    "flight_data.shape"
   ]
  },
  {
   "cell_type": "code",
   "execution_count": 4,
   "id": "7c8db9f1-42e2-47c6-ae05-b89a34363bdf",
   "metadata": {},
   "outputs": [],
   "source": [
    "flight_data.drop('Unnamed: 0',axis=1,inplace=True)\n",
    "flight_data.drop('flight', axis=1, inplace=True)"
   ]
  },
  {
   "cell_type": "code",
   "execution_count": 5,
   "id": "88e7a2ae-a999-4c61-bab1-bfc41d2eb61f",
   "metadata": {},
   "outputs": [
    {
     "data": {
      "text/html": [
       "<div>\n",
       "<style scoped>\n",
       "    .dataframe tbody tr th:only-of-type {\n",
       "        vertical-align: middle;\n",
       "    }\n",
       "\n",
       "    .dataframe tbody tr th {\n",
       "        vertical-align: top;\n",
       "    }\n",
       "\n",
       "    .dataframe thead th {\n",
       "        text-align: right;\n",
       "    }\n",
       "</style>\n",
       "<table border=\"1\" class=\"dataframe\">\n",
       "  <thead>\n",
       "    <tr style=\"text-align: right;\">\n",
       "      <th></th>\n",
       "      <th>airline</th>\n",
       "      <th>source_city</th>\n",
       "      <th>departure_time</th>\n",
       "      <th>stops</th>\n",
       "      <th>arrival_time</th>\n",
       "      <th>destination_city</th>\n",
       "      <th>class</th>\n",
       "      <th>duration</th>\n",
       "      <th>days_left</th>\n",
       "      <th>price</th>\n",
       "    </tr>\n",
       "  </thead>\n",
       "  <tbody>\n",
       "    <tr>\n",
       "      <th>0</th>\n",
       "      <td>SpiceJet</td>\n",
       "      <td>Delhi</td>\n",
       "      <td>Evening</td>\n",
       "      <td>zero</td>\n",
       "      <td>Night</td>\n",
       "      <td>Mumbai</td>\n",
       "      <td>Economy</td>\n",
       "      <td>2.17</td>\n",
       "      <td>1</td>\n",
       "      <td>5953</td>\n",
       "    </tr>\n",
       "    <tr>\n",
       "      <th>1</th>\n",
       "      <td>SpiceJet</td>\n",
       "      <td>Delhi</td>\n",
       "      <td>Early_Morning</td>\n",
       "      <td>zero</td>\n",
       "      <td>Morning</td>\n",
       "      <td>Mumbai</td>\n",
       "      <td>Economy</td>\n",
       "      <td>2.33</td>\n",
       "      <td>1</td>\n",
       "      <td>5953</td>\n",
       "    </tr>\n",
       "    <tr>\n",
       "      <th>2</th>\n",
       "      <td>AirAsia</td>\n",
       "      <td>Delhi</td>\n",
       "      <td>Early_Morning</td>\n",
       "      <td>zero</td>\n",
       "      <td>Early_Morning</td>\n",
       "      <td>Mumbai</td>\n",
       "      <td>Economy</td>\n",
       "      <td>2.17</td>\n",
       "      <td>1</td>\n",
       "      <td>5956</td>\n",
       "    </tr>\n",
       "    <tr>\n",
       "      <th>3</th>\n",
       "      <td>Vistara</td>\n",
       "      <td>Delhi</td>\n",
       "      <td>Morning</td>\n",
       "      <td>zero</td>\n",
       "      <td>Afternoon</td>\n",
       "      <td>Mumbai</td>\n",
       "      <td>Economy</td>\n",
       "      <td>2.25</td>\n",
       "      <td>1</td>\n",
       "      <td>5955</td>\n",
       "    </tr>\n",
       "    <tr>\n",
       "      <th>4</th>\n",
       "      <td>Vistara</td>\n",
       "      <td>Delhi</td>\n",
       "      <td>Morning</td>\n",
       "      <td>zero</td>\n",
       "      <td>Morning</td>\n",
       "      <td>Mumbai</td>\n",
       "      <td>Economy</td>\n",
       "      <td>2.33</td>\n",
       "      <td>1</td>\n",
       "      <td>5955</td>\n",
       "    </tr>\n",
       "  </tbody>\n",
       "</table>\n",
       "</div>"
      ],
      "text/plain": [
       "    airline source_city departure_time stops   arrival_time destination_city  \\\n",
       "0  SpiceJet       Delhi        Evening  zero          Night           Mumbai   \n",
       "1  SpiceJet       Delhi  Early_Morning  zero        Morning           Mumbai   \n",
       "2   AirAsia       Delhi  Early_Morning  zero  Early_Morning           Mumbai   \n",
       "3   Vistara       Delhi        Morning  zero      Afternoon           Mumbai   \n",
       "4   Vistara       Delhi        Morning  zero        Morning           Mumbai   \n",
       "\n",
       "     class  duration  days_left  price  \n",
       "0  Economy      2.17          1   5953  \n",
       "1  Economy      2.33          1   5953  \n",
       "2  Economy      2.17          1   5956  \n",
       "3  Economy      2.25          1   5955  \n",
       "4  Economy      2.33          1   5955  "
      ]
     },
     "execution_count": 5,
     "metadata": {},
     "output_type": "execute_result"
    }
   ],
   "source": [
    "flight_data.head()"
   ]
  },
  {
   "cell_type": "code",
   "execution_count": 6,
   "id": "47c906f6-9017-4f49-9c36-c9682549a3bf",
   "metadata": {},
   "outputs": [
    {
     "name": "stdout",
     "output_type": "stream",
     "text": [
      "<class 'pandas.core.frame.DataFrame'>\n",
      "RangeIndex: 300153 entries, 0 to 300152\n",
      "Data columns (total 10 columns):\n",
      " #   Column            Non-Null Count   Dtype  \n",
      "---  ------            --------------   -----  \n",
      " 0   airline           300153 non-null  object \n",
      " 1   source_city       300153 non-null  object \n",
      " 2   departure_time    300153 non-null  object \n",
      " 3   stops             300153 non-null  object \n",
      " 4   arrival_time      300153 non-null  object \n",
      " 5   destination_city  300153 non-null  object \n",
      " 6   class             300153 non-null  object \n",
      " 7   duration          300153 non-null  float64\n",
      " 8   days_left         300153 non-null  int64  \n",
      " 9   price             300153 non-null  int64  \n",
      "dtypes: float64(1), int64(2), object(7)\n",
      "memory usage: 22.9+ MB\n",
      "None\n"
     ]
    }
   ],
   "source": [
    "print(flight_data.info())"
   ]
  },
  {
   "cell_type": "code",
   "execution_count": 7,
   "id": "d020eba1-5c92-4f59-a087-0c3215d0abe4",
   "metadata": {},
   "outputs": [
    {
     "name": "stdout",
     "output_type": "stream",
     "text": [
      "airline : 6\n",
      "source_city : 6\n",
      "departure_time : 6\n",
      "stops : 3\n",
      "arrival_time : 6\n",
      "destination_city : 6\n",
      "class : 2\n",
      "duration : 476\n",
      "days_left : 49\n",
      "price : 12157\n"
     ]
    }
   ],
   "source": [
    "for col in flight_data.columns:\n",
    "  print(col, ':',flight_data[col].nunique())"
   ]
  },
  {
   "cell_type": "code",
   "execution_count": 8,
   "id": "52ca60b0-f06c-43fd-949d-aaec1f07ca42",
   "metadata": {},
   "outputs": [
    {
     "name": "stdout",
     "output_type": "stream",
     "text": [
      "            duration      days_left          price\n",
      "count  300153.000000  300153.000000  300153.000000\n",
      "mean       12.221021      26.004751   20889.660523\n",
      "std         7.191997      13.561004   22697.767366\n",
      "min         0.830000       1.000000    1105.000000\n",
      "25%         6.830000      15.000000    4783.000000\n",
      "50%        11.250000      26.000000    7425.000000\n",
      "75%        16.170000      38.000000   42521.000000\n",
      "max        49.830000      49.000000  123071.000000\n"
     ]
    }
   ],
   "source": [
    "print(flight_data.describe())"
   ]
  },
  {
   "cell_type": "code",
   "execution_count": 9,
   "id": "bd6d74a1-8607-4827-9923-b634eb9fbc3b",
   "metadata": {},
   "outputs": [
    {
     "name": "stdout",
     "output_type": "stream",
     "text": [
      "Null values in each columns\n",
      "airline             0\n",
      "source_city         0\n",
      "departure_time      0\n",
      "stops               0\n",
      "arrival_time        0\n",
      "destination_city    0\n",
      "class               0\n",
      "duration            0\n",
      "days_left           0\n",
      "price               0\n",
      "dtype: int64\n"
     ]
    }
   ],
   "source": [
    "print('Null values in each columns')\n",
    "print(flight_data.isnull().sum())"
   ]
  },
  {
   "cell_type": "code",
   "execution_count": 10,
   "id": "adab2c41-750e-4a81-be09-75b72bb4666d",
   "metadata": {},
   "outputs": [
    {
     "name": "stdout",
     "output_type": "stream",
     "text": [
      "Total null values in dataset : 0\n"
     ]
    }
   ],
   "source": [
    "print('Total null values in dataset :', flight_data.isnull().sum().sum())"
   ]
  },
  {
   "cell_type": "code",
   "execution_count": 11,
   "id": "0e2979fd-78e3-4e58-a537-fec7ff9a5acd",
   "metadata": {},
   "outputs": [
    {
     "name": "stdout",
     "output_type": "stream",
     "text": [
      "Total duplicates in a dataset : 2213\n"
     ]
    }
   ],
   "source": [
    "print('Total duplicates in a dataset :', flight_data.duplicated().sum())"
   ]
  },
  {
   "cell_type": "code",
   "execution_count": 12,
   "id": "d30da861-fc8a-4f23-988f-b7d045195d7f",
   "metadata": {},
   "outputs": [
    {
     "name": "stdout",
     "output_type": "stream",
     "text": [
      "airline ['AirAsia' 'Air_India' 'GO_FIRST' 'Indigo' 'SpiceJet' 'Vistara']\n",
      "source_city ['Bangalore' 'Chennai' 'Delhi' 'Hyderabad' 'Kolkata' 'Mumbai']\n",
      "departure_time ['Afternoon' 'Early_Morning' 'Evening' 'Late_Night' 'Morning' 'Night']\n",
      "stops ['one' 'two_or_more' 'zero']\n",
      "arrival_time ['Afternoon' 'Early_Morning' 'Evening' 'Late_Night' 'Morning' 'Night']\n",
      "destination_city ['Bangalore' 'Chennai' 'Delhi' 'Hyderabad' 'Kolkata' 'Mumbai']\n",
      "class ['Business' 'Economy']\n"
     ]
    }
   ],
   "source": [
    "for col in flight_data.columns:\n",
    "  if flight_data[col].dtype == 'object':\n",
    "    le = LabelEncoder()\n",
    "    flight_data[col] = le.fit_transform(flight_data[col])\n",
    "    print(col, le.classes_)"
   ]
  },
  {
   "cell_type": "code",
   "execution_count": 13,
   "id": "bf12e05f-0f10-410b-8d4a-b720a51eee2e",
   "metadata": {},
   "outputs": [
    {
     "data": {
      "text/html": [
       "<div>\n",
       "<style scoped>\n",
       "    .dataframe tbody tr th:only-of-type {\n",
       "        vertical-align: middle;\n",
       "    }\n",
       "\n",
       "    .dataframe tbody tr th {\n",
       "        vertical-align: top;\n",
       "    }\n",
       "\n",
       "    .dataframe thead th {\n",
       "        text-align: right;\n",
       "    }\n",
       "</style>\n",
       "<table border=\"1\" class=\"dataframe\">\n",
       "  <thead>\n",
       "    <tr style=\"text-align: right;\">\n",
       "      <th></th>\n",
       "      <th>airline</th>\n",
       "      <th>source_city</th>\n",
       "      <th>departure_time</th>\n",
       "      <th>stops</th>\n",
       "      <th>arrival_time</th>\n",
       "      <th>destination_city</th>\n",
       "      <th>class</th>\n",
       "      <th>duration</th>\n",
       "      <th>days_left</th>\n",
       "      <th>price</th>\n",
       "    </tr>\n",
       "  </thead>\n",
       "  <tbody>\n",
       "    <tr>\n",
       "      <th>0</th>\n",
       "      <td>4</td>\n",
       "      <td>2</td>\n",
       "      <td>2</td>\n",
       "      <td>2</td>\n",
       "      <td>5</td>\n",
       "      <td>5</td>\n",
       "      <td>1</td>\n",
       "      <td>2.17</td>\n",
       "      <td>1</td>\n",
       "      <td>5953</td>\n",
       "    </tr>\n",
       "    <tr>\n",
       "      <th>1</th>\n",
       "      <td>4</td>\n",
       "      <td>2</td>\n",
       "      <td>1</td>\n",
       "      <td>2</td>\n",
       "      <td>4</td>\n",
       "      <td>5</td>\n",
       "      <td>1</td>\n",
       "      <td>2.33</td>\n",
       "      <td>1</td>\n",
       "      <td>5953</td>\n",
       "    </tr>\n",
       "    <tr>\n",
       "      <th>2</th>\n",
       "      <td>0</td>\n",
       "      <td>2</td>\n",
       "      <td>1</td>\n",
       "      <td>2</td>\n",
       "      <td>1</td>\n",
       "      <td>5</td>\n",
       "      <td>1</td>\n",
       "      <td>2.17</td>\n",
       "      <td>1</td>\n",
       "      <td>5956</td>\n",
       "    </tr>\n",
       "    <tr>\n",
       "      <th>3</th>\n",
       "      <td>5</td>\n",
       "      <td>2</td>\n",
       "      <td>4</td>\n",
       "      <td>2</td>\n",
       "      <td>0</td>\n",
       "      <td>5</td>\n",
       "      <td>1</td>\n",
       "      <td>2.25</td>\n",
       "      <td>1</td>\n",
       "      <td>5955</td>\n",
       "    </tr>\n",
       "    <tr>\n",
       "      <th>4</th>\n",
       "      <td>5</td>\n",
       "      <td>2</td>\n",
       "      <td>4</td>\n",
       "      <td>2</td>\n",
       "      <td>4</td>\n",
       "      <td>5</td>\n",
       "      <td>1</td>\n",
       "      <td>2.33</td>\n",
       "      <td>1</td>\n",
       "      <td>5955</td>\n",
       "    </tr>\n",
       "  </tbody>\n",
       "</table>\n",
       "</div>"
      ],
      "text/plain": [
       "   airline  source_city  departure_time  stops  arrival_time  \\\n",
       "0        4            2               2      2             5   \n",
       "1        4            2               1      2             4   \n",
       "2        0            2               1      2             1   \n",
       "3        5            2               4      2             0   \n",
       "4        5            2               4      2             4   \n",
       "\n",
       "   destination_city  class  duration  days_left  price  \n",
       "0                 5      1      2.17          1   5953  \n",
       "1                 5      1      2.33          1   5953  \n",
       "2                 5      1      2.17          1   5956  \n",
       "3                 5      1      2.25          1   5955  \n",
       "4                 5      1      2.33          1   5955  "
      ]
     },
     "execution_count": 13,
     "metadata": {},
     "output_type": "execute_result"
    }
   ],
   "source": [
    "flight_data.head()"
   ]
  },
  {
   "cell_type": "code",
   "execution_count": 14,
   "id": "b044f342-c6ed-4b22-a574-7568a22ef090",
   "metadata": {},
   "outputs": [
    {
     "name": "stdout",
     "output_type": "stream",
     "text": [
      "<class 'pandas.core.frame.DataFrame'>\n",
      "RangeIndex: 300153 entries, 0 to 300152\n",
      "Data columns (total 10 columns):\n",
      " #   Column            Non-Null Count   Dtype  \n",
      "---  ------            --------------   -----  \n",
      " 0   airline           300153 non-null  int32  \n",
      " 1   source_city       300153 non-null  int32  \n",
      " 2   departure_time    300153 non-null  int32  \n",
      " 3   stops             300153 non-null  int32  \n",
      " 4   arrival_time      300153 non-null  int32  \n",
      " 5   destination_city  300153 non-null  int32  \n",
      " 6   class             300153 non-null  int32  \n",
      " 7   duration          300153 non-null  float64\n",
      " 8   days_left         300153 non-null  int64  \n",
      " 9   price             300153 non-null  int64  \n",
      "dtypes: float64(1), int32(7), int64(2)\n",
      "memory usage: 14.9 MB\n"
     ]
    }
   ],
   "source": [
    "flight_data.info()"
   ]
  },
  {
   "cell_type": "code",
   "execution_count": 15,
   "id": "e7074a56-212c-42c1-a6ab-317b5e485f9a",
   "metadata": {},
   "outputs": [
    {
     "data": {
      "text/html": [
       "<div>\n",
       "<style scoped>\n",
       "    .dataframe tbody tr th:only-of-type {\n",
       "        vertical-align: middle;\n",
       "    }\n",
       "\n",
       "    .dataframe tbody tr th {\n",
       "        vertical-align: top;\n",
       "    }\n",
       "\n",
       "    .dataframe thead th {\n",
       "        text-align: right;\n",
       "    }\n",
       "</style>\n",
       "<table border=\"1\" class=\"dataframe\">\n",
       "  <thead>\n",
       "    <tr style=\"text-align: right;\">\n",
       "      <th></th>\n",
       "      <th>airline</th>\n",
       "      <th>source_city</th>\n",
       "      <th>departure_time</th>\n",
       "      <th>stops</th>\n",
       "      <th>arrival_time</th>\n",
       "      <th>destination_city</th>\n",
       "      <th>class</th>\n",
       "      <th>duration</th>\n",
       "      <th>days_left</th>\n",
       "      <th>price</th>\n",
       "    </tr>\n",
       "  </thead>\n",
       "  <tbody>\n",
       "    <tr>\n",
       "      <th>count</th>\n",
       "      <td>300153.000000</td>\n",
       "      <td>300153.000000</td>\n",
       "      <td>300153.000000</td>\n",
       "      <td>300153.000000</td>\n",
       "      <td>300153.000000</td>\n",
       "      <td>300153.000000</td>\n",
       "      <td>300153.000000</td>\n",
       "      <td>300153.000000</td>\n",
       "      <td>300153.000000</td>\n",
       "      <td>300153.000000</td>\n",
       "    </tr>\n",
       "    <tr>\n",
       "      <th>mean</th>\n",
       "      <td>3.104873</td>\n",
       "      <td>2.577592</td>\n",
       "      <td>2.417337</td>\n",
       "      <td>0.284168</td>\n",
       "      <td>3.074086</td>\n",
       "      <td>2.588303</td>\n",
       "      <td>0.688536</td>\n",
       "      <td>12.221021</td>\n",
       "      <td>26.004751</td>\n",
       "      <td>20889.660523</td>\n",
       "    </tr>\n",
       "    <tr>\n",
       "      <th>std</th>\n",
       "      <td>1.833265</td>\n",
       "      <td>1.751762</td>\n",
       "      <td>1.754276</td>\n",
       "      <td>0.665825</td>\n",
       "      <td>1.741666</td>\n",
       "      <td>1.744543</td>\n",
       "      <td>0.463093</td>\n",
       "      <td>7.191997</td>\n",
       "      <td>13.561004</td>\n",
       "      <td>22697.767366</td>\n",
       "    </tr>\n",
       "    <tr>\n",
       "      <th>min</th>\n",
       "      <td>0.000000</td>\n",
       "      <td>0.000000</td>\n",
       "      <td>0.000000</td>\n",
       "      <td>0.000000</td>\n",
       "      <td>0.000000</td>\n",
       "      <td>0.000000</td>\n",
       "      <td>0.000000</td>\n",
       "      <td>0.830000</td>\n",
       "      <td>1.000000</td>\n",
       "      <td>1105.000000</td>\n",
       "    </tr>\n",
       "    <tr>\n",
       "      <th>25%</th>\n",
       "      <td>1.000000</td>\n",
       "      <td>1.000000</td>\n",
       "      <td>1.000000</td>\n",
       "      <td>0.000000</td>\n",
       "      <td>2.000000</td>\n",
       "      <td>1.000000</td>\n",
       "      <td>0.000000</td>\n",
       "      <td>6.830000</td>\n",
       "      <td>15.000000</td>\n",
       "      <td>4783.000000</td>\n",
       "    </tr>\n",
       "    <tr>\n",
       "      <th>50%</th>\n",
       "      <td>3.000000</td>\n",
       "      <td>2.000000</td>\n",
       "      <td>2.000000</td>\n",
       "      <td>0.000000</td>\n",
       "      <td>4.000000</td>\n",
       "      <td>3.000000</td>\n",
       "      <td>1.000000</td>\n",
       "      <td>11.250000</td>\n",
       "      <td>26.000000</td>\n",
       "      <td>7425.000000</td>\n",
       "    </tr>\n",
       "    <tr>\n",
       "      <th>75%</th>\n",
       "      <td>5.000000</td>\n",
       "      <td>4.000000</td>\n",
       "      <td>4.000000</td>\n",
       "      <td>0.000000</td>\n",
       "      <td>5.000000</td>\n",
       "      <td>4.000000</td>\n",
       "      <td>1.000000</td>\n",
       "      <td>16.170000</td>\n",
       "      <td>38.000000</td>\n",
       "      <td>42521.000000</td>\n",
       "    </tr>\n",
       "    <tr>\n",
       "      <th>max</th>\n",
       "      <td>5.000000</td>\n",
       "      <td>5.000000</td>\n",
       "      <td>5.000000</td>\n",
       "      <td>2.000000</td>\n",
       "      <td>5.000000</td>\n",
       "      <td>5.000000</td>\n",
       "      <td>1.000000</td>\n",
       "      <td>49.830000</td>\n",
       "      <td>49.000000</td>\n",
       "      <td>123071.000000</td>\n",
       "    </tr>\n",
       "  </tbody>\n",
       "</table>\n",
       "</div>"
      ],
      "text/plain": [
       "             airline    source_city  departure_time          stops  \\\n",
       "count  300153.000000  300153.000000   300153.000000  300153.000000   \n",
       "mean        3.104873       2.577592        2.417337       0.284168   \n",
       "std         1.833265       1.751762        1.754276       0.665825   \n",
       "min         0.000000       0.000000        0.000000       0.000000   \n",
       "25%         1.000000       1.000000        1.000000       0.000000   \n",
       "50%         3.000000       2.000000        2.000000       0.000000   \n",
       "75%         5.000000       4.000000        4.000000       0.000000   \n",
       "max         5.000000       5.000000        5.000000       2.000000   \n",
       "\n",
       "        arrival_time  destination_city          class       duration  \\\n",
       "count  300153.000000     300153.000000  300153.000000  300153.000000   \n",
       "mean        3.074086          2.588303       0.688536      12.221021   \n",
       "std         1.741666          1.744543       0.463093       7.191997   \n",
       "min         0.000000          0.000000       0.000000       0.830000   \n",
       "25%         2.000000          1.000000       0.000000       6.830000   \n",
       "50%         4.000000          3.000000       1.000000      11.250000   \n",
       "75%         5.000000          4.000000       1.000000      16.170000   \n",
       "max         5.000000          5.000000       1.000000      49.830000   \n",
       "\n",
       "           days_left          price  \n",
       "count  300153.000000  300153.000000  \n",
       "mean       26.004751   20889.660523  \n",
       "std        13.561004   22697.767366  \n",
       "min         1.000000    1105.000000  \n",
       "25%        15.000000    4783.000000  \n",
       "50%        26.000000    7425.000000  \n",
       "75%        38.000000   42521.000000  \n",
       "max        49.000000  123071.000000  "
      ]
     },
     "execution_count": 15,
     "metadata": {},
     "output_type": "execute_result"
    }
   ],
   "source": [
    "flight_data.describe()"
   ]
  },
  {
   "cell_type": "code",
   "execution_count": 16,
   "id": "2fe21a16-79b8-4c02-9139-e57a3a0d639e",
   "metadata": {},
   "outputs": [
    {
     "name": "stdout",
     "output_type": "stream",
     "text": [
      " Removed 0 outliers from 'airline'\n",
      " Removed 0 outliers from 'source_city'\n",
      " Removed 0 outliers from 'departure_time'\n",
      " Removed 49290 outliers from 'stops'\n",
      " Removed 0 outliers from 'arrival_time'\n",
      " Removed 0 outliers from 'destination_city'\n",
      " Removed 0 outliers from 'class'\n",
      " Removed 1296 outliers from 'duration'\n",
      " Removed 0 outliers from 'days_left'\n",
      " Removed 2 outliers from 'price'\n"
     ]
    }
   ],
   "source": [
    "def remove_outliers_iqr(df):\n",
    "    for col in df.columns:\n",
    "        Q1 = df[col].quantile(0.25)\n",
    "        Q3 = df[col].quantile(0.75)\n",
    "        IQR = Q3 - Q1\n",
    "        lower = Q1 - 1.5 * IQR\n",
    "        upper = Q3 + 1.5 * IQR\n",
    "        before = df.shape[0]\n",
    "        df = df[(df[col] >= lower) & (df[col] <= upper)]\n",
    "        after = df.shape[0]\n",
    "        print(f\" Removed {before - after} outliers from '{col}'\")\n",
    "    return df\n",
    "\n",
    "flight_data = remove_outliers_iqr(flight_data)"
   ]
  },
  {
   "cell_type": "code",
   "execution_count": 17,
   "id": "20193abc-b6d7-4728-885e-9c2bcc12d4a3",
   "metadata": {},
   "outputs": [],
   "source": [
    "sc = StandardScaler()\n",
    "flight_data_scaled = sc.fit_transform(flight_data)\n",
    "flight_data_scaled = pd.DataFrame(flight_data_scaled, columns=flight_data.columns)"
   ]
  },
  {
   "cell_type": "code",
   "execution_count": 18,
   "id": "a566af50-21a0-4e4a-81d6-ef41e3be4c08",
   "metadata": {},
   "outputs": [
    {
     "data": {
      "image/png": "[encoded data removed]",
      "text/plain": [
       "<Figure size 500x500 with 1 Axes>"
      ]
     },
     "metadata": {},
     "output_type": "display_data"
    }
   ],
   "source": [
    "cols_to_visualize_dist = ['duration']\n",
    "cols_to_visualize_count = ['airline', 'source_city', 'stops', 'class']\n",
    "\n",
    "for col in cols_to_visualize_dist:\n",
    "  sns.displot(flight_data[col], kde=True)\n",
    "  plt.title(f'Distribution of {col}')\n",
    "  plt.show()"
   ]
  },
  {
   "cell_type": "code",
   "execution_count": 19,
   "id": "665ab1a2-20de-44e6-af97-2a6a9fdc9332",
   "metadata": {},
   "outputs": [
    {
     "data": {
      "image/png": "[encoded data removed]",
      "text/plain": [
       "<Figure size 640x480 with 1 Axes>"
      ]
     },
     "metadata": {},
     "output_type": "display_data"
    },
    {
     "data": {
      "image/png": "[encoded data removed]",
      "text/plain": [
       "<Figure size 640x480 with 1 Axes>"
      ]
     },
     "metadata": {},
     "output_type": "display_data"
    },
    {
     "data": {
      "image/png": "[encoded data removed]",
      "text/plain": [
       "<Figure size 640x480 with 1 Axes>"
      ]
     },
     "metadata": {},
     "output_type": "display_data"
    },
    {
     "data": {
      "image/png": "[encoded data removed]",
      "text/plain": [
       "<Figure size 640x480 with 1 Axes>"
      ]
     },
     "metadata": {},
     "output_type": "display_data"
    },
    {
     "data": {
      "image/png": "[encoded data removed]",
      "text/plain": [
       "<Figure size 640x480 with 1 Axes>"
      ]
     },
     "metadata": {},
     "output_type": "display_data"
    },
    {
     "data": {
      "image/png": "[encoded data removed]",
      "text/plain": [
       "<Figure size 640x480 with 1 Axes>"
      ]
     },
     "metadata": {},
     "output_type": "display_data"
    },
    {
     "data": {
      "image/png": "[encoded data removed]",
      "text/plain": [
       "<Figure size 640x480 with 1 Axes>"
      ]
     },
     "metadata": {},
     "output_type": "display_data"
    },
    {
     "data": {
      "image/png": "[encoded data removed]",
      "text/plain": [
       "<Figure size 640x480 with 1 Axes>"
      ]
     },
     "metadata": {},
     "output_type": "display_data"
    },
    {
     "data": {
      "image/png": "[encoded data removed]",
      "text/plain": [
       "<Figure size 640x480 with 1 Axes>"
      ]
     },
     "metadata": {},
     "output_type": "display_data"
    },
    {
     "data": {
      "image/png": "[encoded data removed]",
      "text/plain": [
       "<Figure size 640x480 with 1 Axes>"
      ]
     },
     "metadata": {},
     "output_type": "display_data"
    }
   ],
   "source": [
    "for col in flight_data_scaled:\n",
    "  sns.boxplot(flight_data_scaled[col])\n",
    "  plt.title(f'Boxplot of {col}')\n",
    "  plt.show()"
   ]
  },
  {
   "cell_type": "code",
   "execution_count": 20,
   "id": "eeb9b788-a11e-4d32-a42e-d0af981e62b9",
   "metadata": {},
   "outputs": [],
   "source": [
    "X = flight_data_scaled.drop('price', axis=1)\n",
    "y = flight_data_scaled['price']"
   ]
  },
  {
   "cell_type": "code",
   "execution_count": 21,
   "id": "3030a0bb-5bbf-4e07-8574-79df951712e0",
   "metadata": {},
   "outputs": [],
   "source": [
    "X_train, X_test, y_train, y_test = train_test_split(X, y, test_size=0.2, random_state=42)"
   ]
  },
  {
   "cell_type": "code",
   "execution_count": 22,
   "id": "d9196fc4-b1d6-4fb6-a0b3-04b82153fa83",
   "metadata": {},
   "outputs": [],
   "source": [
    "from xgboost import XGBRegressor\n",
    "from sklearn.model_selection import GridSearchCV\n",
    "models = {\n",
    "    'Linear Regression': LinearRegression(),\n",
    "    'Random Forest': RandomForestRegressor(n_estimators=50, max_depth=10, random_state=42),\n",
    "    'Decision Tree': DecisionTreeRegressor(max_depth=10, random_state=42),\n",
    "    'XGBoost': XGBRegressor(n_estimators=100, learning_rate=0.1, max_depth=5, random_state=42)\n",
    "}"
   ]
  },
  {
   "cell_type": "code",
   "execution_count": 23,
   "id": "30afd503-b4c4-4294-b8d3-133e08bdfbbf",
   "metadata": {},
   "outputs": [
    {
     "name": "stdout",
     "output_type": "stream",
     "text": [
      "\n",
      "🔹 Model: Linear Regression\n",
      "MAE : 0.1741592994716645\n",
      "MSE : 0.0723450406961763\n",
      "RMSE: 0.2689703342307034\n",
      "R² Score: 0.9284276126625128\n",
      "\n",
      "🔹 Model: Random Forest\n",
      "MAE : 0.10579624255143091\n",
      "MSE : 0.03445196461821182\n",
      "RMSE: 0.18561240426817335\n",
      "R² Score: 0.9659159863279697\n",
      "\n",
      "🔹 Model: Decision Tree\n",
      "MAE : 0.11017119507602614\n",
      "MSE : 0.03749918917132535\n",
      "RMSE: 0.1936470737484183\n",
      "R² Score: 0.9629013064836985\n",
      "\n",
      "🔹 Model: XGBoost\n",
      "MAE : 0.11554963084367614\n",
      "MSE : 0.03786193222641132\n",
      "RMSE: 0.19458142826696315\n",
      "R² Score: 0.9625424375661783\n"
     ]
    }
   ],
   "source": [
    "from sklearn.metrics import mean_absolute_error, mean_squared_error, r2_score\n",
    "\n",
    "for name, model in models.items():\n",
    "    model.fit(X_train, y_train)\n",
    "    y_pred = model.predict(X_test)\n",
    "\n",
    "    print(f\"\\n🔹 Model: {name}\")\n",
    "    print(\"MAE :\", mean_absolute_error(y_test, y_pred))\n",
    "    print(\"MSE :\", mean_squared_error(y_test, y_pred))\n",
    "    print(\"RMSE:\", np.sqrt(mean_squared_error(y_test, y_pred)))\n",
    "    print(\"R² Score:\", r2_score(y_test, y_pred))"
   ]
  },
  {
   "cell_type": "code",
   "execution_count": null,
   "id": "f51e8c56-b435-4c50-8082-03b6a56d6b04",
   "metadata": {},
   "outputs": [],
   "source": [
    "results = []\n",
    "\n",
    "for name, model in models.items():\n",
    "    model.fit(X_train, y_train)\n",
    "    y_pred = model.predict(X_test)\n",
    "    r2 = r2_score(y_test, y_pred)\n",
    "    rmse = np.sqrt(mean_squared_error(y_test, y_pred))\n",
    "    results.append((name, r2, rmse))\n",
    "\n",
    "result_df = pd.DataFrame(results, columns=['Model', 'R²', 'RMSE'])\n",
    "result_df.set_index(\"Model\").plot(kind='bar', figsize=(8,5), title=\"Model Comparison\")\n",
    "plt.ylabel(\"Score (Higher R², Lower RMSE)\")\n",
    "plt.grid(True)\n",
    "plt.tight_layout()\n",
    "plt.show()"
   ]
  },
  {
   "cell_type": "code",
   "execution_count": null,
   "id": "9e4d24b8-92e4-461e-8b04-0d30d560ebbd",
   "metadata": {},
   "outputs": [],
   "source": [
    "from sklearn.model_selection import GridSearchCV\n",
    "from sklearn.ensemble import RandomForestRegressor\n",
    "from sklearn.tree import DecisionTreeRegressor\n",
    "from sklearn.linear_model import Ridge, Lasso\n",
    "from xgboost import XGBRegressor\n",
    "from sklearn.metrics import r2_score, mean_squared_error, mean_absolute_error\n",
    "\n",
    "\n",
    "tuned_models = {}\n",
    "\n",
    "# 1. Random Forest\n",
    "rf_params = {\n",
    "    'n_estimators': [100, 150],\n",
    "    'max_depth': [10, 15],\n",
    "    'min_samples_split': [2, 5]\n",
    "}\n",
    "rf_grid = GridSearchCV(RandomForestRegressor(random_state=42), rf_params, cv=3, scoring='r2', n_jobs=-1)\n",
    "rf_grid.fit(X_train, y_train)\n",
    "tuned_models['Random Forest'] = rf_grid.best_estimator_\n",
    "\n",
    "# 2. Decision Tree\n",
    "dt_params = {\n",
    "    'max_depth': [5, 10, 15],\n",
    "    'min_samples_split': [2, 5, 10]\n",
    "}\n",
    "dt_grid = GridSearchCV(DecisionTreeRegressor(random_state=42), dt_params, cv=3, scoring='r2', n_jobs=-1)\n",
    "dt_grid.fit(X_train, y_train)\n",
    "tuned_models['Decision Tree'] = dt_grid.best_estimator_\n",
    "\n",
    "# 3. Ridge Regression (tuned Linear Regression)\n",
    "ridge_params = {'alpha': [0.01, 0.1, 1, 10]}\n",
    "ridge_grid = GridSearchCV(Ridge(), ridge_params, cv=3, scoring='r2', n_jobs=-1)\n",
    "ridge_grid.fit(X_train, y_train)\n",
    "tuned_models['Ridge Regression'] = ridge_grid.best_estimator_\n",
    "\n",
    "# 4. Lasso Regression\n",
    "lasso_params = {'alpha': [0.01, 0.1, 1, 10]}\n",
    "lasso_grid = GridSearchCV(Lasso(), lasso_params, cv=3, scoring='r2', n_jobs=-1)\n",
    "lasso_grid.fit(X_train, y_train)\n",
    "tuned_models['Lasso Regression'] = lasso_grid.best_estimator_\n",
    "\n",
    "# 5. XGBoost\n",
    "xgb_params = {\n",
    "    'n_estimators': [100, 150],\n",
    "    'max_depth': [5, 8],\n",
    "    'learning_rate': [0.05, 0.1],\n",
    "    'subsample': [0.8, 1]\n",
    "}\n",
    "xgb_grid = GridSearchCV(XGBRegressor(random_state=42, eval_metric='rmse'), xgb_params, cv=3, scoring='r2', n_jobs=-1)\n",
    "xgb_grid.fit(X_train, y_train)\n",
    "tuned_models['XGBoost'] = xgb_grid.best_estimator_"
   ]
  },
  {
   "cell_type": "code",
   "execution_count": null,
   "id": "ab34bb73-10ac-453b-b469-b3086bc7d41b",
   "metadata": {},
   "outputs": [],
   "source": []
  },
  {
   "cell_type": "code",
   "execution_count": null,
   "id": "5b683988-c4b9-404f-ba3f-da816c912aaa",
   "metadata": {},
   "outputs": [],
   "source": []
  },
  {
   "cell_type": "code",
   "execution_count": null,
   "id": "9b7cbb01-301a-4268-a136-8e511252a8c1",
   "metadata": {},
   "outputs": [],
   "source": []
  }
 ],
 "metadata": {
  "kernelspec": {
   "display_name": "Python 3 (ipykernel)",
   "language": "python",
   "name": "python3"
  },
  "language_info": {
   "codemirror_mode": {
    "name": "ipython",
    "version": 3
   },
   "file_extension": ".py",
   "mimetype": "text/x-python",
   "name": "python",
   "nbconvert_exporter": "python",
   "pygments_lexer": "ipython3",
   "version": "3.12.7"
  }
 },
 "nbformat": 4,
 "nbformat_minor": 5
}
